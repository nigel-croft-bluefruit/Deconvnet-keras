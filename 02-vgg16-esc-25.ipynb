{
 "cells": [
  {
   "cell_type": "markdown",
   "metadata": {},
   "source": [
    "# VGG16\n",
    "\n",
    "Create VGG16 version of model for use with DeConvNet sample code\n",
    "This notebook is based on ESC_25_resnet18_02"
   ]
  },
  {
   "cell_type": "markdown",
   "metadata": {
    "colab_type": "text",
    "id": "BvFC409hZGYt"
   },
   "source": [
    "## Download Data (takes a LONG time)"
   ]
  },
  {
   "cell_type": "code",
   "execution_count": 1,
   "metadata": {
    "colab": {
     "base_uri": "https://localhost:8080/",
     "height": 364
    },
    "colab_type": "code",
    "id": "uuguZBmZAYza",
    "outputId": "7d238ae2-e8b2-4b06-d173-6de12d7469f7"
   },
   "outputs": [],
   "source": [
    "#!wget https://github.com/karoldvl/ESC-50/archive/master.zip"
   ]
  },
  {
   "cell_type": "code",
   "execution_count": 2,
   "metadata": {
    "colab": {
     "base_uri": "https://localhost:8080/",
     "height": 1000
    },
    "colab_type": "code",
    "id": "lkuO8l60HJBp",
    "outputId": "8b54e4e8-e63d-4e4b-c19a-ce26c90f8832",
    "scrolled": true
   },
   "outputs": [],
   "source": [
    "#!unzip master.zip"
   ]
  },
  {
   "cell_type": "markdown",
   "metadata": {
    "colab_type": "text",
    "id": "lHHQGjLNYxVN"
   },
   "source": [
    "## Imports"
   ]
  },
  {
   "cell_type": "code",
   "execution_count": 2,
   "metadata": {
    "colab": {},
    "colab_type": "code",
    "id": "4EHj2A3YLAkh"
   },
   "outputs": [
    {
     "name": "stdout",
     "output_type": "stream",
     "text": [
      "/home/jupyter/dev/tflow/deconvnet/Deconvnet-keras\n"
     ]
    }
   ],
   "source": [
    "%cd /home/jupyter/dev/tflow/deconvnet/Deconvnet-keras\n",
    "import os\n",
    "import datetime\n",
    "from pathlib import Path\n",
    "from os import path\n",
    "import pickle\n",
    "from datetime import datetime\n",
    "import pandas as pd\n",
    "import numpy as np\n",
    "import librosa\n",
    "from sklearn.preprocessing import LabelEncoder\n",
    "from sklearn.model_selection import train_test_split\n",
    "from sklearn import metrics\n",
    "from tensorflow.keras.models import Sequential, Model\n",
    "from tensorflow.keras.layers import Dense, Dropout, Activation, Flatten, Reshape, Input\n",
    "from tensorflow.keras.layers import Convolution2D, Conv2D, MaxPooling2D, GlobalAveragePooling2D\n",
    "from tensorflow.keras.optimizers import Adam\n",
    "from tensorflow.keras.optimizers.schedules import ExponentialDecay\n",
    "from tensorflow.keras.utils import to_categorical, Sequence\n",
    "from tensorflow.keras.callbacks import ModelCheckpoint\n",
    "from tensorflow.keras.applications.resnet50 import ResNet50\n",
    "from tensorflow.keras.applications import DenseNet121\n",
    "from tensorflow.keras.preprocessing import image\n",
    "import tensorflow as tf\n",
    "from IPython.display import clear_output\n",
    "import matplotlib.pyplot as plt\n",
    "import librosa.display\n",
    "%load_ext tensorboard"
   ]
  },
  {
   "cell_type": "markdown",
   "metadata": {
    "colab_type": "text",
    "id": "kOrHamV-45aG"
   },
   "source": [
    "## Data prep"
   ]
  },
  {
   "cell_type": "code",
   "execution_count": 3,
   "metadata": {
    "colab": {},
    "colab_type": "code",
    "id": "X1PN-EBFd7Nr"
   },
   "outputs": [
    {
     "name": "stdout",
     "output_type": "stream",
     "text": [
      "True\n"
     ]
    }
   ],
   "source": [
    "ROOT_DIR = Path(\"/home/jupyter/\")\n",
    "PATH_ESC50 = ROOT_DIR/\"AudioCategoriserEquipment/ESC-50-master\"\n",
    "PATH_ESC50_AUDIO = PATH_ESC50/\"audio\"\n",
    "PATH_ESC50_CSV  = PATH_ESC50/\"meta/esc50.csv\"\n",
    "print(os.path.exists(PATH_ESC50))"
   ]
  },
  {
   "cell_type": "code",
   "execution_count": 4,
   "metadata": {
    "colab": {
     "base_uri": "https://localhost:8080/",
     "height": 34
    },
    "colab_type": "code",
    "id": "c-S4FruxKQQX",
    "outputId": "fca3ee99-05c2-4335-b038-ff503c57f9ef"
   },
   "outputs": [
    {
     "name": "stdout",
     "output_type": "stream",
     "text": [
      "               filename  fold  target        category  esc10  src_file take\n",
      "0      1-100032-A-0.wav     1       0             dog   True    100032    A\n",
      "1     1-100038-A-14.wav     1      14  chirping_birds  False    100038    A\n",
      "2     1-100210-A-36.wav     1      36  vacuum_cleaner  False    100210    A\n",
      "3     1-100210-B-36.wav     1      36  vacuum_cleaner  False    100210    B\n",
      "4     1-101296-A-19.wav     1      19    thunderstorm  False    101296    A\n",
      "...                 ...   ...     ...             ...    ...       ...  ...\n",
      "1995   5-263831-B-6.wav     5       6             hen  False    263831    B\n",
      "1996  5-263902-A-36.wav     5      36  vacuum_cleaner  False    263902    A\n",
      "1997   5-51149-A-25.wav     5      25       footsteps  False     51149    A\n",
      "1998    5-61635-A-8.wav     5       8           sheep  False     61635    A\n",
      "1999     5-9032-A-0.wav     5       0             dog   True      9032    A\n",
      "\n",
      "[2000 rows x 7 columns]\n"
     ]
    }
   ],
   "source": [
    "esc50_df = pd.read_csv(PATH_ESC50_CSV)\n",
    "print(esc50_df)"
   ]
  },
  {
   "cell_type": "code",
   "execution_count": 5,
   "metadata": {},
   "outputs": [],
   "source": [
    "IMAGE_CACHE = path.join(ROOT_DIR, \"dev/tflow/cache/\")\n",
    "!mkdir -p {IMAGE_CACHE}"
   ]
  },
  {
   "cell_type": "code",
   "execution_count": 6,
   "metadata": {},
   "outputs": [],
   "source": [
    "esc25_categories =[\n",
    " 'breathing',\n",
    " 'car_horn',\n",
    " 'cat',\n",
    " 'chainsaw',\n",
    " 'chirping_birds',\n",
    " 'clapping',\n",
    " 'coughing',\n",
    " 'cow',\n",
    " 'crickets',\n",
    " 'dog',\n",
    " 'door_wood_knock',\n",
    " 'engine',\n",
    " 'frog',\n",
    " 'glass_breaking',\n",
    " 'hen',\n",
    " 'laughing',\n",
    " 'rain',\n",
    " 'rooster',\n",
    " 'sheep',\n",
    " 'siren',\n",
    " 'sneezing',\n",
    " 'snoring',\n",
    " 'thunderstorm',\n",
    " 'vacuum_cleaner',\n",
    "  'wind']"
   ]
  },
  {
   "cell_type": "code",
   "execution_count": 7,
   "metadata": {},
   "outputs": [
    {
     "name": "stdout",
     "output_type": "stream",
     "text": [
      "               filename  fold  target        category  esc10  src_file take\n",
      "0      1-100032-A-0.wav     1       0             dog   True    100032    A\n",
      "1     1-100038-A-14.wav     1      14  chirping_birds  False    100038    A\n",
      "2     1-100210-A-36.wav     1      36  vacuum_cleaner  False    100210    A\n",
      "3     1-100210-B-36.wav     1      36  vacuum_cleaner  False    100210    B\n",
      "4     1-101296-A-19.wav     1      19    thunderstorm  False    101296    A\n",
      "...                 ...   ...     ...             ...    ...       ...  ...\n",
      "1994   5-263831-A-6.wav     5       6             hen  False    263831    A\n",
      "1995   5-263831-B-6.wav     5       6             hen  False    263831    B\n",
      "1996  5-263902-A-36.wav     5      36  vacuum_cleaner  False    263902    A\n",
      "1998    5-61635-A-8.wav     5       8           sheep  False     61635    A\n",
      "1999     5-9032-A-0.wav     5       0             dog   True      9032    A\n",
      "\n",
      "[1000 rows x 7 columns]\n"
     ]
    }
   ],
   "source": [
    "esc25_df = esc50_df[esc50_df.category.isin(esc25_categories)]\n",
    "print(esc25_df)"
   ]
  },
  {
   "cell_type": "code",
   "execution_count": 8,
   "metadata": {},
   "outputs": [],
   "source": [
    "from IPython.display import clear_output\n",
    "import librosa\n",
    "\n",
    "def extract_feature(filename):\n",
    "    y, sr = librosa.load(filename, sr=44100)   \n",
    "    S = librosa.feature.melspectrogram(y=y, sr=sr)\n",
    "    S = librosa.power_to_db(S)\n",
    "    S = np.transpose(S)\n",
    "    S = np.expand_dims(S, 2)\n",
    "    #S = tf.image.grayscale_to_rgb(S)\n",
    "    return S\n",
    "\n",
    "def get_feature_from_row(row):\n",
    "    filename = PATH_ESC50_AUDIO/row['filename']\n",
    "    category_label = row['category']\n",
    "    data = extract_feature(filename)\n",
    "    return (data, category_label)\n",
    "\n",
    "def get_feature_set(metadata):\n",
    "    number_of_rows = len(metadata)\n",
    "    processed_rows = 0\n",
    "    validation_set = []\n",
    "    training_set = []\n",
    "    for index, row in metadata.iterrows():\n",
    "        processed_rows += 1  \n",
    "        clear_output(wait=True)\n",
    "        if row[\"fold\"] == 1:  \n",
    "            validation_set.append(get_feature_from_row(row))\n",
    "        else:\n",
    "            training_set.append(get_feature_from_row(row))\n",
    "        progress = float(100 * processed_rows) / number_of_rows\n",
    "        print(f\"Current process: {progress:.2f}%\")\n",
    "    return validation_set, training_set"
   ]
  },
  {
   "cell_type": "code",
   "execution_count": 12,
   "metadata": {},
   "outputs": [
    {
     "name": "stdout",
     "output_type": "stream",
     "text": [
      "Current process: 100.00%\n"
     ]
    }
   ],
   "source": [
    "validation_set, training_set = get_feature_set(esc25_df)"
   ]
  },
  {
   "cell_type": "code",
   "execution_count": 13,
   "metadata": {},
   "outputs": [
    {
     "data": {
      "text/plain": [
       "800"
      ]
     },
     "execution_count": 13,
     "metadata": {},
     "output_type": "execute_result"
    }
   ],
   "source": [
    "import random\n",
    "random.shuffle(training_set)\n",
    "len(training_set)"
   ]
  },
  {
   "cell_type": "code",
   "execution_count": 14,
   "metadata": {},
   "outputs": [
    {
     "name": "stdout",
     "output_type": "stream",
     "text": [
      "(200, 25)\n",
      "(800, 25)\n",
      "(200, 431, 128, 1)\n",
      "(800, 431, 128, 1)\n"
     ]
    }
   ],
   "source": [
    "le = LabelEncoder()\n",
    "train_x = np.array([data for data, label in training_set])\n",
    "train_y = to_categorical(le.fit_transform(np.array([label for data, label in training_set])))\n",
    "test_x = np.array([data for data, label in validation_set])\n",
    "test_y = to_categorical(le.fit_transform(np.array([label for data, label in validation_set])))\n",
    "print(test_y.shape)\n",
    "print(train_y.shape)\n",
    "print(test_x.shape)\n",
    "print(train_x.shape)"
   ]
  },
  {
   "cell_type": "markdown",
   "metadata": {
    "colab_type": "text",
    "id": "ZKmrGuh2K5hX"
   },
   "source": [
    "#### Shaping the data"
   ]
  },
  {
   "cell_type": "code",
   "execution_count": 15,
   "metadata": {
    "colab": {},
    "colab_type": "code",
    "id": "6pmPzbq3NUh0"
   },
   "outputs": [],
   "source": [
    "timestamp = datetime.now().strftime(\"%d-%m-%y-%H-%M\")\n",
    "save_data = open(f\"esc-25-a-{timestamp}.pickle\", \"wb\")\n",
    "pickle.dump((test_x, test_y, train_x, train_y), save_data)\n",
    "save_data.close()"
   ]
  },
  {
   "cell_type": "markdown",
   "metadata": {
    "colab_type": "text",
    "id": "sOAsI_125AvG"
   },
   "source": [
    "## Building the model"
   ]
  },
  {
   "cell_type": "code",
   "execution_count": 9,
   "metadata": {
    "colab": {},
    "colab_type": "code",
    "id": "QBPYncDM2aVs"
   },
   "outputs": [],
   "source": [
    "test_x, test_y, train_x, train_y = pickle.load(open(\"../../esc-25-a-11-06-20-10-28.pickle\", \"rb\"))"
   ]
  },
  {
   "cell_type": "code",
   "execution_count": 10,
   "metadata": {},
   "outputs": [
    {
     "data": {
      "text/plain": [
       "(800, 431, 128, 1)"
      ]
     },
     "execution_count": 10,
     "metadata": {},
     "output_type": "execute_result"
    }
   ],
   "source": [
    "train_x.shape"
   ]
  },
  {
   "cell_type": "code",
   "execution_count": 11,
   "metadata": {
    "colab": {},
    "colab_type": "code",
    "id": "Zeif_bAXDWDD"
   },
   "outputs": [
    {
     "name": "stdout",
     "output_type": "stream",
     "text": [
      "Downloading data from https://storage.googleapis.com/tensorflow/keras-applications/vgg16/vgg16_weights_tf_dim_ordering_tf_kernels_notop.h5\n",
      "58892288/58889256 [==============================] - 3s 0us/step\n"
     ]
    }
   ],
   "source": [
    "from tensorflow.keras.applications import vgg16\n",
    "\n",
    "num_epochs = 40\n",
    "num_batch_size = 32\n",
    "\n",
    "num_labels = len(train_y[0])\n",
    "\n",
    "input_layer = Input(shape=train_x.shape[1:])\n",
    "#reshape_layer = Reshape((train_x.shape[1], train_x.shape[2], 3), input_shape = train_x.shape[1:])\n",
    "reshape_layer = Conv2D(filters=3, kernel_size=1, input_shape=(train_x.shape[1:]))\n",
    "base_model = vgg16.VGG16(input_shape=(431,128,3), weights='imagenet', include_top=False)\n",
    "base_model.trainable = True\n",
    "\n",
    "out = reshape_layer(input_layer)\n",
    "out = base_model(out)\n",
    "out = GlobalAveragePooling2D()(out)\n",
    "out = Dropout(0.7)(out) #do we need this?\n",
    "predictions = Dense(num_labels, activation='softmax')(out)\n",
    "\n",
    "model = Model(inputs = input_layer, outputs = predictions)"
   ]
  },
  {
   "cell_type": "code",
   "execution_count": 18,
   "metadata": {
    "colab": {
     "base_uri": "https://localhost:8080/",
     "height": 1000
    },
    "colab_type": "code",
    "id": "iK6yHpgme1iE",
    "outputId": "81c060b6-809d-4abf-c2ea-dfe42b018e1a",
    "scrolled": true
   },
   "outputs": [
    {
     "name": "stdout",
     "output_type": "stream",
     "text": [
      "Model: \"model\"\n",
      "_________________________________________________________________\n",
      "Layer (type)                 Output Shape              Param #   \n",
      "=================================================================\n",
      "input_1 (InputLayer)         [(None, 431, 128, 1)]     0         \n",
      "_________________________________________________________________\n",
      "conv2d (Conv2D)              (None, 431, 128, 3)       6         \n",
      "_________________________________________________________________\n",
      "vgg16 (Model)                (None, 13, 4, 512)        14714688  \n",
      "_________________________________________________________________\n",
      "global_average_pooling2d (Gl (None, 512)               0         \n",
      "_________________________________________________________________\n",
      "dropout (Dropout)            (None, 512)               0         \n",
      "_________________________________________________________________\n",
      "dense (Dense)                (None, 25)                12825     \n",
      "=================================================================\n",
      "Total params: 14,727,519\n",
      "Trainable params: 14,727,519\n",
      "Non-trainable params: 0\n",
      "_________________________________________________________________\n",
      "Pre-training accuracy: 6.0000%\n"
     ]
    }
   ],
   "source": [
    "#TODO - Add Training rate\n",
    "learning_rate = ExponentialDecay(\n",
    "    initial_learning_rate=1e-5,\n",
    "    decay_steps=num_epochs,\n",
    "    decay_rate=0.95)\n",
    "\n",
    "optimizer = Adam(learning_rate=learning_rate)\n",
    "\n",
    "model.compile(loss='categorical_crossentropy', metrics=['accuracy'], optimizer=optimizer)\n",
    "\n",
    "model.summary()\n",
    "score = model.evaluate(test_x, test_y, verbose=0)\n",
    "accuracy = 100*score[1]\n",
    "print(\"Pre-training accuracy: %.4f%%\" % accuracy)"
   ]
  },
  {
   "cell_type": "markdown",
   "metadata": {
    "colab_type": "text",
    "id": "y4EFlvxZA0ti"
   },
   "source": [
    "## Training"
   ]
  },
  {
   "cell_type": "code",
   "execution_count": 13,
   "metadata": {},
   "outputs": [],
   "source": [
    "# Use generator instead of plain data array for training\n",
    "import math\n",
    "import random\n",
    "class AugmentedData(Sequence):\n",
    "    \n",
    "    def __init__(self, x_set, y_set, batch_size):\n",
    "        self.x, self.y = x_set, y_set\n",
    "        self.batch_size = batch_size\n",
    "\n",
    "    def __len__(self):\n",
    "        return math.ceil(len(self.x) / self.batch_size)\n",
    "\n",
    "    def __getitem__(self, idx):\n",
    "        batch_x = np.copy(self.x[idx * self.batch_size:(idx + 1) *\n",
    "        self.batch_size])\n",
    "        batch_y = self.y[idx * self.batch_size:(idx + 1) *\n",
    "        self.batch_size]\n",
    "        \n",
    "        batch_x = self._frequency_mask(batch_x)\n",
    "        batch_x = self._roll(batch_x)\n",
    "        return batch_x, batch_y\n",
    "    \n",
    "    def _roll(self, batch_x, max_shift_pct=0.7):\n",
    "        direction = random.choice([-1, 1])\n",
    "        width, height, c  = batch_x.shape[1:]\n",
    "        roll_by = int(width*random.random()*max_shift_pct*direction)\n",
    "        return tf.roll(batch_x, roll_by, axis=1)\n",
    "\n",
    "    def _frequency_mask(self, batch_x, num_rows=8):\n",
    "        channel_mean = np.mean(batch_x) #batch_x.contiguous().view(batch_x.size(0), -1).mean(-1).unsqueeze(-1).unsqueeze(-1)\n",
    "        x, y, c  = batch_x.shape[1:]\n",
    "        mask = tf.ones([x, num_rows,1]) * channel_mean\n",
    "        mask = tf.expand_dims(mask, 0)\n",
    "        start_row = random.randint(0, y-num_rows)\n",
    "        batch_x[:,:,start_row:start_row+num_rows,:] = mask\n",
    "        return batch_x"
   ]
  },
  {
   "cell_type": "code",
   "execution_count": 14,
   "metadata": {},
   "outputs": [],
   "source": [
    "augmented_train = AugmentedData(train_x, train_y, num_batch_size)"
   ]
  },
  {
   "cell_type": "code",
   "execution_count": 15,
   "metadata": {},
   "outputs": [],
   "source": [
    "def generate_image(spectro):\n",
    "    plt.axis('off')\n",
    "    plt.axes([0., 0., 1., 1.], frameon=False, xticks=[], yticks=[])\n",
    "    librosa.display.specshow(spectro)\n",
    "    plt.plot()"
   ]
  },
  {
   "cell_type": "code",
   "execution_count": 16,
   "metadata": {},
   "outputs": [
    {
     "data": {
      "image/png": "[encoded data removed]",
      "text/plain": [
       "<Figure size 432x288 with 2 Axes>"
      ]
     },
     "metadata": {
      "needs_background": "light"
     },
     "output_type": "display_data"
    }
   ],
   "source": [
    "a = tf.squeeze(augmented_train[0][0][0],2)\n",
    "a.shape\n",
    "generate_image(np.array(a))"
   ]
  },
  {
   "cell_type": "code",
   "execution_count": 19,
   "metadata": {
    "colab": {
     "base_uri": "https://localhost:8080/",
     "height": 940
    },
    "colab_type": "code",
    "id": "pkxCYEDWA2OU",
    "outputId": "e66efb3e-6b98-452b-fbe6-ceaeacb0ee6b"
   },
   "outputs": [
    {
     "name": "stdout",
     "output_type": "stream",
     "text": [
      "Epoch 1/40\n",
      "25/25 [==============================] - 13s 506ms/step - loss: 3.2095 - accuracy: 0.0538 - val_loss: 3.1981 - val_accuracy: 0.0450\n",
      "Epoch 2/40\n",
      "25/25 [==============================] - 13s 506ms/step - loss: 3.2026 - accuracy: 0.0437 - val_loss: 3.1903 - val_accuracy: 0.0500\n",
      "Epoch 3/40\n",
      "25/25 [==============================] - 13s 509ms/step - loss: 3.1989 - accuracy: 0.0437 - val_loss: 3.1845 - val_accuracy: 0.0550\n",
      "Epoch 4/40\n",
      "25/25 [==============================] - 13s 512ms/step - loss: 3.1922 - accuracy: 0.0413 - val_loss: 3.1834 - val_accuracy: 0.0600\n",
      "Epoch 5/40\n",
      "25/25 [==============================] - 13s 513ms/step - loss: 3.1877 - accuracy: 0.0450 - val_loss: 3.1708 - val_accuracy: 0.0500\n",
      "Epoch 6/40\n",
      "25/25 [==============================] - 13s 517ms/step - loss: 3.1923 - accuracy: 0.0388 - val_loss: 3.1615 - val_accuracy: 0.0750\n",
      "Epoch 7/40\n",
      "25/25 [==============================] - 13s 516ms/step - loss: 3.1676 - accuracy: 0.0437 - val_loss: 3.1398 - val_accuracy: 0.0700\n",
      "Epoch 8/40\n",
      "25/25 [==============================] - 13s 519ms/step - loss: 3.1584 - accuracy: 0.0712 - val_loss: 3.1158 - val_accuracy: 0.0800\n",
      "Epoch 9/40\n",
      "25/25 [==============================] - 13s 520ms/step - loss: 3.1549 - accuracy: 0.0487 - val_loss: 3.0945 - val_accuracy: 0.1150\n",
      "Epoch 10/40\n",
      "25/25 [==============================] - 13s 523ms/step - loss: 3.1155 - accuracy: 0.0662 - val_loss: 3.0498 - val_accuracy: 0.1350\n",
      "Epoch 11/40\n",
      "25/25 [==============================] - 13s 523ms/step - loss: 3.0922 - accuracy: 0.0862 - val_loss: 3.0391 - val_accuracy: 0.1350\n",
      "Epoch 12/40\n",
      "25/25 [==============================] - 13s 524ms/step - loss: 3.0410 - accuracy: 0.0950 - val_loss: 2.9853 - val_accuracy: 0.1700\n",
      "Epoch 13/40\n",
      "25/25 [==============================] - 13s 525ms/step - loss: 2.9913 - accuracy: 0.0988 - val_loss: 2.9616 - val_accuracy: 0.1850\n",
      "Epoch 14/40\n",
      "25/25 [==============================] - 13s 528ms/step - loss: 2.9759 - accuracy: 0.1013 - val_loss: 2.9237 - val_accuracy: 0.2250\n",
      "Epoch 15/40\n",
      "25/25 [==============================] - 13s 528ms/step - loss: 2.9263 - accuracy: 0.1338 - val_loss: 2.8704 - val_accuracy: 0.2400\n",
      "Epoch 16/40\n",
      "25/25 [==============================] - 13s 529ms/step - loss: 2.8936 - accuracy: 0.1525 - val_loss: 2.8540 - val_accuracy: 0.2450\n",
      "Epoch 17/40\n",
      "25/25 [==============================] - 13s 530ms/step - loss: 2.8089 - accuracy: 0.1675 - val_loss: 2.7923 - val_accuracy: 0.2600\n",
      "Epoch 18/40\n",
      "25/25 [==============================] - 13s 530ms/step - loss: 2.8177 - accuracy: 0.1513 - val_loss: 2.7624 - val_accuracy: 0.2700\n",
      "Epoch 19/40\n",
      "25/25 [==============================] - 13s 531ms/step - loss: 2.7554 - accuracy: 0.1950 - val_loss: 2.7430 - val_accuracy: 0.2650\n",
      "Epoch 20/40\n",
      "25/25 [==============================] - 13s 530ms/step - loss: 2.7318 - accuracy: 0.1825 - val_loss: 2.6905 - val_accuracy: 0.2650\n",
      "Epoch 21/40\n",
      "25/25 [==============================] - 13s 531ms/step - loss: 2.6967 - accuracy: 0.2113 - val_loss: 2.6848 - val_accuracy: 0.2750\n",
      "Epoch 22/40\n",
      "25/25 [==============================] - 13s 531ms/step - loss: 2.6654 - accuracy: 0.2325 - val_loss: 2.6509 - val_accuracy: 0.2900\n",
      "Epoch 23/40\n",
      "25/25 [==============================] - 13s 531ms/step - loss: 2.6420 - accuracy: 0.2313 - val_loss: 2.6391 - val_accuracy: 0.2850\n",
      "Epoch 24/40\n",
      "25/25 [==============================] - 13s 531ms/step - loss: 2.5866 - accuracy: 0.2325 - val_loss: 2.6572 - val_accuracy: 0.2700\n",
      "Epoch 25/40\n",
      "25/25 [==============================] - 13s 531ms/step - loss: 2.5160 - accuracy: 0.2550 - val_loss: 2.5969 - val_accuracy: 0.2700\n",
      "Epoch 26/40\n",
      "25/25 [==============================] - 13s 531ms/step - loss: 2.5476 - accuracy: 0.2425 - val_loss: 2.5397 - val_accuracy: 0.3150\n",
      "Epoch 27/40\n",
      "25/25 [==============================] - 13s 532ms/step - loss: 2.4978 - accuracy: 0.2688 - val_loss: 2.5499 - val_accuracy: 0.3100\n",
      "Epoch 28/40\n",
      "25/25 [==============================] - 13s 532ms/step - loss: 2.4326 - accuracy: 0.2800 - val_loss: 2.5784 - val_accuracy: 0.2900\n",
      "Epoch 29/40\n",
      "25/25 [==============================] - 13s 530ms/step - loss: 2.4331 - accuracy: 0.2800 - val_loss: 2.4984 - val_accuracy: 0.3600\n",
      "Epoch 30/40\n",
      "25/25 [==============================] - 13s 533ms/step - loss: 2.3911 - accuracy: 0.2925 - val_loss: 2.4846 - val_accuracy: 0.3350\n",
      "Epoch 31/40\n",
      "25/25 [==============================] - 13s 534ms/step - loss: 2.3369 - accuracy: 0.3100 - val_loss: 2.4711 - val_accuracy: 0.3450\n",
      "Epoch 32/40\n",
      "25/25 [==============================] - 13s 535ms/step - loss: 2.3422 - accuracy: 0.2975 - val_loss: 2.4684 - val_accuracy: 0.3650\n",
      "Epoch 33/40\n",
      "25/25 [==============================] - 13s 535ms/step - loss: 2.3332 - accuracy: 0.3250 - val_loss: 2.4208 - val_accuracy: 0.3600\n",
      "Epoch 34/40\n",
      "25/25 [==============================] - 13s 536ms/step - loss: 2.2216 - accuracy: 0.3300 - val_loss: 2.3765 - val_accuracy: 0.4150\n",
      "Epoch 35/40\n",
      "25/25 [==============================] - 13s 535ms/step - loss: 2.2885 - accuracy: 0.3063 - val_loss: 2.3672 - val_accuracy: 0.3800\n",
      "Epoch 36/40\n",
      "25/25 [==============================] - 13s 534ms/step - loss: 2.2797 - accuracy: 0.3162 - val_loss: 2.3613 - val_accuracy: 0.3800\n",
      "Epoch 37/40\n",
      "25/25 [==============================] - 13s 536ms/step - loss: 2.2477 - accuracy: 0.3262 - val_loss: 2.3733 - val_accuracy: 0.4300\n",
      "Epoch 38/40\n",
      "25/25 [==============================] - 13s 534ms/step - loss: 2.1770 - accuracy: 0.3613 - val_loss: 2.3526 - val_accuracy: 0.4050\n",
      "Epoch 39/40\n",
      "25/25 [==============================] - 13s 533ms/step - loss: 2.1742 - accuracy: 0.3512 - val_loss: 2.3044 - val_accuracy: 0.4450\n",
      "Epoch 40/40\n",
      "25/25 [==============================] - 13s 534ms/step - loss: 2.1712 - accuracy: 0.3575 - val_loss: 2.2874 - val_accuracy: 0.4450\n",
      "Training completed in time:  0:09:06.761253\n"
     ]
    }
   ],
   "source": [
    "!rm -r logs/*\n",
    "logdir = os.path.join(\"logs\", datetime.now().strftime(\"%Y%m%d-%H%M%S\"))\n",
    "tensorboard_callback = tf.keras.callbacks.TensorBoard(logdir, histogram_freq=1)\n",
    "\n",
    "start = datetime.now()\n",
    "\n",
    "model.fit(augmented_train, epochs=num_epochs, \\\n",
    "          validation_data=(test_x, test_y), callbacks=[tensorboard_callback], verbose=1)\n",
    "\n",
    "duration = datetime.now() - start\n",
    "\n",
    "print(\"Training completed in time: \", duration)"
   ]
  },
  {
   "cell_type": "code",
   "execution_count": 20,
   "metadata": {},
   "outputs": [
    {
     "name": "stdout",
     "output_type": "stream",
     "text": [
      "Epoch 1/20\n",
      "25/25 [==============================] - 12s 465ms/step - loss: 2.1110 - accuracy: 0.3875 - val_loss: 2.2681 - val_accuracy: 0.4600\n",
      "Epoch 2/20\n",
      "25/25 [==============================] - 12s 469ms/step - loss: 2.1081 - accuracy: 0.3738 - val_loss: 2.2614 - val_accuracy: 0.4650\n",
      "Epoch 3/20\n",
      "25/25 [==============================] - 12s 470ms/step - loss: 2.1134 - accuracy: 0.3650 - val_loss: 2.2455 - val_accuracy: 0.4650\n",
      "Epoch 4/20\n",
      "25/25 [==============================] - 12s 473ms/step - loss: 2.0522 - accuracy: 0.3850 - val_loss: 2.1767 - val_accuracy: 0.4700\n",
      "Epoch 5/20\n",
      "25/25 [==============================] - 12s 475ms/step - loss: 2.0139 - accuracy: 0.3975 - val_loss: 2.1577 - val_accuracy: 0.5000\n",
      "Epoch 6/20\n",
      "25/25 [==============================] - 12s 477ms/step - loss: 2.0393 - accuracy: 0.3812 - val_loss: 2.1853 - val_accuracy: 0.4950\n",
      "Epoch 7/20\n",
      "25/25 [==============================] - 12s 480ms/step - loss: 2.0149 - accuracy: 0.3900 - val_loss: 2.1349 - val_accuracy: 0.5050\n",
      "Epoch 8/20\n",
      "25/25 [==============================] - 12s 481ms/step - loss: 1.9780 - accuracy: 0.3963 - val_loss: 2.1001 - val_accuracy: 0.5250\n",
      "Epoch 9/20\n",
      "25/25 [==============================] - 12s 483ms/step - loss: 1.9636 - accuracy: 0.4212 - val_loss: 2.1144 - val_accuracy: 0.5050\n",
      "Epoch 10/20\n",
      "25/25 [==============================] - 12s 484ms/step - loss: 1.9296 - accuracy: 0.4125 - val_loss: 2.0789 - val_accuracy: 0.5000\n",
      "Epoch 11/20\n",
      "25/25 [==============================] - 12s 485ms/step - loss: 1.9109 - accuracy: 0.4263 - val_loss: 2.0215 - val_accuracy: 0.5400\n",
      "Epoch 12/20\n",
      "25/25 [==============================] - 12s 489ms/step - loss: 1.9129 - accuracy: 0.4288 - val_loss: 2.0281 - val_accuracy: 0.5250\n",
      "Epoch 13/20\n",
      "25/25 [==============================] - 12s 488ms/step - loss: 1.8850 - accuracy: 0.4500 - val_loss: 1.9924 - val_accuracy: 0.5200\n",
      "Epoch 14/20\n",
      "25/25 [==============================] - 12s 489ms/step - loss: 1.8876 - accuracy: 0.4300 - val_loss: 2.0237 - val_accuracy: 0.5400\n",
      "Epoch 15/20\n",
      "25/25 [==============================] - 12s 490ms/step - loss: 1.8906 - accuracy: 0.4250 - val_loss: 1.9857 - val_accuracy: 0.5400\n",
      "Epoch 16/20\n",
      "25/25 [==============================] - 12s 490ms/step - loss: 1.8513 - accuracy: 0.4437 - val_loss: 1.9936 - val_accuracy: 0.5350\n",
      "Epoch 17/20\n",
      "25/25 [==============================] - 12s 490ms/step - loss: 1.8634 - accuracy: 0.4250 - val_loss: 1.9421 - val_accuracy: 0.5350\n",
      "Epoch 18/20\n",
      "25/25 [==============================] - 12s 490ms/step - loss: 1.8304 - accuracy: 0.4387 - val_loss: 1.9652 - val_accuracy: 0.5350\n",
      "Epoch 19/20\n",
      "25/25 [==============================] - 12s 491ms/step - loss: 1.8295 - accuracy: 0.4437 - val_loss: 1.9230 - val_accuracy: 0.5500\n",
      "Epoch 20/20\n",
      "25/25 [==============================] - 12s 491ms/step - loss: 1.7814 - accuracy: 0.4600 - val_loss: 1.8801 - val_accuracy: 0.5450\n"
     ]
    },
    {
     "data": {
      "text/plain": [
       "<tensorflow.python.keras.callbacks.History at 0x7f5e99409dd0>"
      ]
     },
     "execution_count": 20,
     "metadata": {},
     "output_type": "execute_result"
    }
   ],
   "source": [
    "model.fit(augmented_train, epochs=20, \\\n",
    "          validation_data=(test_x, test_y), verbose=1)\n"
   ]
  },
  {
   "cell_type": "code",
   "execution_count": 21,
   "metadata": {},
   "outputs": [
    {
     "name": "stdout",
     "output_type": "stream",
     "text": [
      "Epoch 1/10\n",
      "25/25 [==============================] - 13s 503ms/step - loss: 1.8033 - accuracy: 0.4475 - val_loss: 1.9002 - val_accuracy: 0.5550\n",
      "Epoch 2/10\n",
      "25/25 [==============================] - 13s 507ms/step - loss: 1.7941 - accuracy: 0.4487 - val_loss: 1.8832 - val_accuracy: 0.5500\n",
      "Epoch 3/10\n",
      "25/25 [==============================] - 13s 509ms/step - loss: 1.7871 - accuracy: 0.4487 - val_loss: 1.8812 - val_accuracy: 0.5250\n",
      "Epoch 4/10\n",
      "25/25 [==============================] - 13s 510ms/step - loss: 1.7354 - accuracy: 0.4737 - val_loss: 1.8474 - val_accuracy: 0.5500\n",
      "Epoch 5/10\n",
      "25/25 [==============================] - 13s 512ms/step - loss: 1.7288 - accuracy: 0.4563 - val_loss: 1.8416 - val_accuracy: 0.5450\n",
      "Epoch 6/10\n",
      "25/25 [==============================] - 13s 515ms/step - loss: 1.7566 - accuracy: 0.4563 - val_loss: 1.8378 - val_accuracy: 0.5600\n",
      "Epoch 7/10\n",
      "25/25 [==============================] - 13s 518ms/step - loss: 1.7169 - accuracy: 0.4725 - val_loss: 1.8453 - val_accuracy: 0.5650\n",
      "Epoch 8/10\n",
      "25/25 [==============================] - 13s 520ms/step - loss: 1.7111 - accuracy: 0.4638 - val_loss: 1.8104 - val_accuracy: 0.5550\n",
      "Epoch 9/10\n",
      "25/25 [==============================] - 13s 520ms/step - loss: 1.7341 - accuracy: 0.4712 - val_loss: 1.8254 - val_accuracy: 0.5800\n",
      "Epoch 10/10\n",
      "25/25 [==============================] - 13s 523ms/step - loss: 1.6925 - accuracy: 0.4775 - val_loss: 1.8132 - val_accuracy: 0.5800\n"
     ]
    },
    {
     "data": {
      "text/plain": [
       "<tensorflow.python.keras.callbacks.History at 0x7f5a4868ced0>"
      ]
     },
     "execution_count": 21,
     "metadata": {},
     "output_type": "execute_result"
    }
   ],
   "source": [
    "model.fit(augmented_train, epochs=10, \\\n",
    "          validation_data=(test_x, test_y), callbacks=[tensorboard_callback], verbose=1)\n"
   ]
  },
  {
   "cell_type": "code",
   "execution_count": 22,
   "metadata": {},
   "outputs": [
    {
     "name": "stdout",
     "output_type": "stream",
     "text": [
      "WARNING:tensorflow:From /opt/conda/lib/python3.7/site-packages/tensorflow/python/ops/resource_variable_ops.py:1817: calling BaseResourceVariable.__init__ (from tensorflow.python.ops.resource_variable_ops) with constraint is deprecated and will be removed in a future version.\n",
      "Instructions for updating:\n",
      "If using Keras pass *_constraint arguments to layers.\n",
      "INFO:tensorflow:Assets written to: /home/jupyter/dev/tflow/saved-models/esc_25_vgg16-03-08-20-14-35/assets\n"
     ]
    }
   ],
   "source": [
    "timestamp = datetime.now().strftime(\"%d-%m-%y-%H-%M\")\n",
    "model.save(f\"/home/jupyter/dev/tflow/saved-models/esc_25_vgg16-{timestamp}\") "
   ]
  },
  {
   "cell_type": "markdown",
   "metadata": {},
   "source": [
    "### different LR"
   ]
  },
  {
   "cell_type": "code",
   "execution_count": 26,
   "metadata": {
    "colab": {},
    "colab_type": "code",
    "id": "Zeif_bAXDWDD"
   },
   "outputs": [],
   "source": [
    "from tensorflow.keras.applications import vgg16\n",
    "\n",
    "num_epochs = 40\n",
    "num_batch_size = 32\n",
    "\n",
    "num_labels = len(train_y[0])\n",
    "\n",
    "input_layer = Input(shape=train_x.shape[1:])\n",
    "#reshape_layer = Reshape((train_x.shape[1], train_x.shape[2], 3), input_shape = train_x.shape[1:])\n",
    "reshape_layer = Conv2D(filters=3, kernel_size=1, input_shape=(train_x.shape[1:]))\n",
    "base_model = vgg16.VGG16(input_shape=(431,128,3), weights='imagenet', include_top=False)\n",
    "base_model.trainable = True\n",
    "\n",
    "out = reshape_layer(input_layer)\n",
    "out = base_model(out)\n",
    "out = GlobalAveragePooling2D()(out)\n",
    "out = Dropout(0.7)(out) #do we need this?\n",
    "predictions = Dense(num_labels, activation='softmax')(out)\n",
    "\n",
    "model = Model(inputs = input_layer, outputs = predictions)"
   ]
  },
  {
   "cell_type": "code",
   "execution_count": 27,
   "metadata": {
    "colab": {
     "base_uri": "https://localhost:8080/",
     "height": 1000
    },
    "colab_type": "code",
    "id": "iK6yHpgme1iE",
    "outputId": "81c060b6-809d-4abf-c2ea-dfe42b018e1a",
    "scrolled": true
   },
   "outputs": [
    {
     "name": "stdout",
     "output_type": "stream",
     "text": [
      "Model: \"model_1\"\n",
      "_________________________________________________________________\n",
      "Layer (type)                 Output Shape              Param #   \n",
      "=================================================================\n",
      "input_3 (InputLayer)         [(None, 431, 128, 1)]     0         \n",
      "_________________________________________________________________\n",
      "conv2d_1 (Conv2D)            (None, 431, 128, 3)       6         \n",
      "_________________________________________________________________\n",
      "vgg16 (Model)                (None, 13, 4, 512)        14714688  \n",
      "_________________________________________________________________\n",
      "global_average_pooling2d_1 ( (None, 512)               0         \n",
      "_________________________________________________________________\n",
      "dropout_1 (Dropout)          (None, 512)               0         \n",
      "_________________________________________________________________\n",
      "dense_1 (Dense)              (None, 25)                12825     \n",
      "=================================================================\n",
      "Total params: 14,727,519\n",
      "Trainable params: 14,727,519\n",
      "Non-trainable params: 0\n",
      "_________________________________________________________________\n",
      "Pre-training accuracy: 5.0000%\n"
     ]
    }
   ],
   "source": [
    "#TODO - Add Training rate\n",
    "learning_rate = ExponentialDecay(\n",
    "    initial_learning_rate=3e-5,\n",
    "    decay_steps=num_epochs,\n",
    "    decay_rate=0.95)\n",
    "\n",
    "optimizer = Adam(learning_rate=learning_rate)\n",
    "\n",
    "model.compile(loss='categorical_crossentropy', metrics=['accuracy'], optimizer=optimizer)\n",
    "\n",
    "model.summary()\n",
    "score = model.evaluate(test_x, test_y, verbose=0)\n",
    "accuracy = 100*score[1]\n",
    "print(\"Pre-training accuracy: %.4f%%\" % accuracy)"
   ]
  },
  {
   "cell_type": "code",
   "execution_count": 28,
   "metadata": {},
   "outputs": [
    {
     "name": "stdout",
     "output_type": "stream",
     "text": [
      "Epoch 1/10\n",
      "25/25 [==============================] - 12s 468ms/step - loss: 3.4236 - accuracy: 0.0437 - val_loss: 3.1967 - val_accuracy: 0.0300\n",
      "Epoch 2/10\n",
      "25/25 [==============================] - 12s 469ms/step - loss: 3.2066 - accuracy: 0.0512 - val_loss: 3.1865 - val_accuracy: 0.0600\n",
      "Epoch 3/10\n",
      "25/25 [==============================] - 12s 472ms/step - loss: 3.1819 - accuracy: 0.0425 - val_loss: 3.1422 - val_accuracy: 0.0650\n",
      "Epoch 4/10\n",
      "25/25 [==============================] - 12s 476ms/step - loss: 3.1614 - accuracy: 0.0725 - val_loss: 3.1162 - val_accuracy: 0.1400\n",
      "Epoch 5/10\n",
      "25/25 [==============================] - 12s 479ms/step - loss: 3.1259 - accuracy: 0.0725 - val_loss: 3.1396 - val_accuracy: 0.1000\n",
      "Epoch 6/10\n",
      "25/25 [==============================] - 12s 481ms/step - loss: 3.1399 - accuracy: 0.0688 - val_loss: 3.0497 - val_accuracy: 0.1200\n",
      "Epoch 7/10\n",
      "25/25 [==============================] - 12s 483ms/step - loss: 3.0412 - accuracy: 0.0975 - val_loss: 2.9037 - val_accuracy: 0.1700\n",
      "Epoch 8/10\n",
      "25/25 [==============================] - 12s 485ms/step - loss: 3.0175 - accuracy: 0.1338 - val_loss: 2.7909 - val_accuracy: 0.1700\n",
      "Epoch 9/10\n",
      "25/25 [==============================] - 12s 487ms/step - loss: 2.7648 - accuracy: 0.2037 - val_loss: 2.3892 - val_accuracy: 0.2850\n",
      "Epoch 10/10\n",
      "25/25 [==============================] - 12s 489ms/step - loss: 2.5725 - accuracy: 0.2438 - val_loss: 2.1752 - val_accuracy: 0.4500\n"
     ]
    },
    {
     "data": {
      "text/plain": [
       "<tensorflow.python.keras.callbacks.History at 0x7f5a47afa1d0>"
      ]
     },
     "execution_count": 28,
     "metadata": {},
     "output_type": "execute_result"
    }
   ],
   "source": [
    "model.fit(augmented_train, epochs=10, \\\n",
    "          validation_data=(test_x, test_y), verbose=1)"
   ]
  },
  {
   "cell_type": "code",
   "execution_count": 29,
   "metadata": {},
   "outputs": [
    {
     "name": "stdout",
     "output_type": "stream",
     "text": [
      "Epoch 1/20\n",
      "25/25 [==============================] - 12s 488ms/step - loss: 2.2705 - accuracy: 0.3462 - val_loss: 2.0897 - val_accuracy: 0.4900\n",
      "Epoch 2/20\n",
      "25/25 [==============================] - 12s 489ms/step - loss: 2.0644 - accuracy: 0.3950 - val_loss: 1.7625 - val_accuracy: 0.5200\n",
      "Epoch 3/20\n",
      "25/25 [==============================] - 12s 489ms/step - loss: 1.8564 - accuracy: 0.4500 - val_loss: 1.5197 - val_accuracy: 0.6250\n",
      "Epoch 4/20\n",
      "25/25 [==============================] - 12s 489ms/step - loss: 1.5287 - accuracy: 0.5688 - val_loss: 1.2637 - val_accuracy: 0.6800\n",
      "Epoch 5/20\n",
      "25/25 [==============================] - 12s 490ms/step - loss: 1.4777 - accuracy: 0.5500 - val_loss: 1.2687 - val_accuracy: 0.6950\n",
      "Epoch 6/20\n",
      "25/25 [==============================] - 12s 491ms/step - loss: 1.2140 - accuracy: 0.6313 - val_loss: 1.0787 - val_accuracy: 0.7300\n",
      "Epoch 7/20\n",
      "25/25 [==============================] - 12s 493ms/step - loss: 1.0677 - accuracy: 0.6650 - val_loss: 0.8125 - val_accuracy: 0.7900\n",
      "Epoch 8/20\n",
      "25/25 [==============================] - 12s 495ms/step - loss: 0.9526 - accuracy: 0.7125 - val_loss: 0.7848 - val_accuracy: 0.8100\n",
      "Epoch 9/20\n",
      "25/25 [==============================] - 12s 497ms/step - loss: 0.9103 - accuracy: 0.7287 - val_loss: 1.0022 - val_accuracy: 0.7800\n",
      "Epoch 10/20\n",
      "25/25 [==============================] - 12s 499ms/step - loss: 0.7606 - accuracy: 0.7663 - val_loss: 0.8288 - val_accuracy: 0.7900\n",
      "Epoch 11/20\n",
      "25/25 [==============================] - 12s 499ms/step - loss: 0.6144 - accuracy: 0.8100 - val_loss: 0.7349 - val_accuracy: 0.8150\n",
      "Epoch 12/20\n",
      "25/25 [==============================] - 12s 499ms/step - loss: 0.5978 - accuracy: 0.8112 - val_loss: 0.6237 - val_accuracy: 0.8350\n",
      "Epoch 13/20\n",
      "25/25 [==============================] - 12s 498ms/step - loss: 0.6272 - accuracy: 0.8200 - val_loss: 0.8611 - val_accuracy: 0.7550\n",
      "Epoch 14/20\n",
      "25/25 [==============================] - 12s 498ms/step - loss: 0.5560 - accuracy: 0.8413 - val_loss: 0.6708 - val_accuracy: 0.7900\n",
      "Epoch 15/20\n",
      "25/25 [==============================] - 12s 498ms/step - loss: 0.4337 - accuracy: 0.8550 - val_loss: 0.5980 - val_accuracy: 0.8350\n",
      "Epoch 16/20\n",
      "25/25 [==============================] - 12s 498ms/step - loss: 0.4004 - accuracy: 0.8800 - val_loss: 0.6301 - val_accuracy: 0.8450\n",
      "Epoch 17/20\n",
      "25/25 [==============================] - 12s 499ms/step - loss: 0.4008 - accuracy: 0.8725 - val_loss: 0.9107 - val_accuracy: 0.8000\n",
      "Epoch 18/20\n",
      "25/25 [==============================] - 12s 499ms/step - loss: 0.4095 - accuracy: 0.8737 - val_loss: 0.5812 - val_accuracy: 0.8600\n",
      "Epoch 19/20\n",
      "25/25 [==============================] - 13s 500ms/step - loss: 0.3154 - accuracy: 0.9062 - val_loss: 0.6146 - val_accuracy: 0.8550\n",
      "Epoch 20/20\n",
      "25/25 [==============================] - 12s 500ms/step - loss: 0.3413 - accuracy: 0.9000 - val_loss: 0.6948 - val_accuracy: 0.8350\n"
     ]
    },
    {
     "data": {
      "text/plain": [
       "<tensorflow.python.keras.callbacks.History at 0x7f5a47e98910>"
      ]
     },
     "execution_count": 29,
     "metadata": {},
     "output_type": "execute_result"
    }
   ],
   "source": [
    "model.fit(augmented_train, epochs=20, \\\n",
    "          validation_data=(test_x, test_y), verbose=1)"
   ]
  },
  {
   "cell_type": "code",
   "execution_count": 30,
   "metadata": {},
   "outputs": [
    {
     "name": "stdout",
     "output_type": "stream",
     "text": [
      "Epoch 1/10\n",
      "25/25 [==============================] - 12s 488ms/step - loss: 0.2703 - accuracy: 0.9200 - val_loss: 0.6454 - val_accuracy: 0.8450\n",
      "Epoch 2/10\n",
      "25/25 [==============================] - 12s 490ms/step - loss: 0.2561 - accuracy: 0.9212 - val_loss: 0.6001 - val_accuracy: 0.8550\n",
      "Epoch 3/10\n",
      "25/25 [==============================] - 12s 489ms/step - loss: 0.2699 - accuracy: 0.9212 - val_loss: 0.5975 - val_accuracy: 0.8500\n",
      "Epoch 4/10\n",
      "25/25 [==============================] - 12s 491ms/step - loss: 0.2356 - accuracy: 0.9250 - val_loss: 0.5748 - val_accuracy: 0.8600\n",
      "Epoch 5/10\n",
      "25/25 [==============================] - 12s 493ms/step - loss: 0.2231 - accuracy: 0.9350 - val_loss: 0.6144 - val_accuracy: 0.8800\n",
      "Epoch 6/10\n",
      "25/25 [==============================] - 12s 495ms/step - loss: 0.2273 - accuracy: 0.9275 - val_loss: 0.6058 - val_accuracy: 0.8500\n",
      "Epoch 7/10\n",
      "25/25 [==============================] - 12s 496ms/step - loss: 0.1858 - accuracy: 0.9425 - val_loss: 0.5745 - val_accuracy: 0.8850\n",
      "Epoch 8/10\n",
      "25/25 [==============================] - 12s 496ms/step - loss: 0.1733 - accuracy: 0.9550 - val_loss: 0.6394 - val_accuracy: 0.8550\n",
      "Epoch 9/10\n",
      "25/25 [==============================] - 12s 497ms/step - loss: 0.1801 - accuracy: 0.9500 - val_loss: 0.6055 - val_accuracy: 0.8600\n",
      "Epoch 10/10\n",
      "25/25 [==============================] - 12s 497ms/step - loss: 0.1970 - accuracy: 0.9513 - val_loss: 0.5995 - val_accuracy: 0.8750\n"
     ]
    },
    {
     "data": {
      "text/plain": [
       "<tensorflow.python.keras.callbacks.History at 0x7f5a49601710>"
      ]
     },
     "execution_count": 30,
     "metadata": {},
     "output_type": "execute_result"
    }
   ],
   "source": [
    "model.fit(augmented_train, epochs=10, \\\n",
    "          validation_data=(test_x, test_y), verbose=1)"
   ]
  },
  {
   "cell_type": "code",
   "execution_count": 31,
   "metadata": {},
   "outputs": [
    {
     "name": "stdout",
     "output_type": "stream",
     "text": [
      "INFO:tensorflow:Assets written to: /home/jupyter/dev/tflow/saved-models/esc_25_vgg16-03-08-20-14-49/assets\n"
     ]
    }
   ],
   "source": [
    "timestamp = datetime.now().strftime(\"%d-%m-%y-%H-%M\")\n",
    "model.save(f\"/home/jupyter/dev/tflow/saved-models/esc_25_vgg16-{timestamp}\") "
   ]
  },
  {
   "cell_type": "markdown",
   "metadata": {
    "colab_type": "text",
    "id": "DLcqbgNK1_3c"
   },
   "source": [
    "## Convert to TFLite"
   ]
  },
  {
   "cell_type": "code",
   "execution_count": 32,
   "metadata": {
    "colab": {},
    "colab_type": "code",
    "id": "Fp6UZf4j-VOk"
   },
   "outputs": [],
   "source": [
    "converter = tf.lite.TFLiteConverter.from_keras_model(model)"
   ]
  },
  {
   "cell_type": "code",
   "execution_count": 33,
   "metadata": {
    "colab": {},
    "colab_type": "code",
    "id": "PEeyk0jvpBeR"
   },
   "outputs": [],
   "source": [
    "tflite_model = converter.convert()"
   ]
  },
  {
   "cell_type": "code",
   "execution_count": 35,
   "metadata": {
    "colab": {},
    "colab_type": "code",
    "id": "1o1zu890m4AF"
   },
   "outputs": [],
   "source": [
    "timestamp = datetime.now().strftime(\"%d-%m-%y-%H-%M\")\n",
    "with open(f\"/home/jupyter/dev/tflow/saved-models/esc_25_vgg16-{timestamp}.tflite\", \"wb\") as f:\n",
    "    f.write(tflite_model)"
   ]
  },
  {
   "cell_type": "markdown",
   "metadata": {},
   "source": [
    "# Testing script"
   ]
  },
  {
   "cell_type": "code",
   "execution_count": 36,
   "metadata": {},
   "outputs": [],
   "source": [
    "import glob\n",
    "from pathlib import Path\n",
    "from os import path"
   ]
  },
  {
   "cell_type": "code",
   "execution_count": 37,
   "metadata": {},
   "outputs": [],
   "source": [
    "recordings_dir = \"/home/jupyter/AudioCategoriserEquipment-AudioSamples/\""
   ]
  },
  {
   "cell_type": "code",
   "execution_count": 38,
   "metadata": {},
   "outputs": [],
   "source": [
    "audio_filepaths = []\n",
    "for filepath in Path(recordings_dir).rglob('*.wav'):\n",
    "    audio_filepaths.append(str(filepath))"
   ]
  },
  {
   "cell_type": "code",
   "execution_count": 39,
   "metadata": {},
   "outputs": [],
   "source": [
    "filepaths_with_cat = [(filepath, path.dirname(filepath).split(\"/\")[-1]) for filepath in audio_filepaths]"
   ]
  },
  {
   "cell_type": "code",
   "execution_count": 40,
   "metadata": {},
   "outputs": [],
   "source": [
    "import numpy as np\n",
    "import librosa\n",
    "\n",
    "try:\n",
    "    import tflite_runtime.interpreter as tflite\n",
    "except ModuleNotFoundError:\n",
    "    import tensorflow.lite as tflite\n",
    "\n",
    "MODEL_PATH = \"/home/jupyter/dev/tflow/saved-models/esc_25_vgg16-03-08-20-14-52.tflite\"\n",
    "\n",
    "def extract_feature(filename):\n",
    "    y, sr = librosa.load(filename, sr=44100)   \n",
    "    S = librosa.feature.melspectrogram(y=y, sr=sr)\n",
    "    S = librosa.power_to_db(S)\n",
    "    S = np.transpose(S)\n",
    "    return S[np.newaxis, 0:431, :, np.newaxis]\n",
    "\n",
    "\n",
    "def get_human_readable_output(output):\n",
    "    results = [\n",
    "        'breathing', 'car_horn', 'cat',\n",
    "        'chainsaw', 'chirping_birds',\n",
    "        'clapping', 'coughing', 'cow',\n",
    "        'crickets', 'dog', 'door_wood_knock',\n",
    "        'engine', 'frog', 'glass_breaking',\n",
    "        'hen', 'laughing', 'rain', 'rooster',\n",
    "        'sheep', 'siren', 'sneezing',\n",
    "        'snoring', 'thunderstorm',\n",
    "        'vacuum_cleaner', 'wind'\n",
    "    ]\n",
    "\n",
    "    output = list(output[0])\n",
    "\n",
    "    largest = max(output)\n",
    "    index = list(output).index(largest)\n",
    "    return results[index]\n",
    "    #result = f\"{largest * 100:.2f}% confident that this is a {results[index]}\"\n",
    "\n",
    "    #formatted_output = [f\"{o*100:05.2f}\" for o in output]\n",
    "    #stats = [f\"{x}%: {results[i]}\" for i, x in enumerate(formatted_output)]\n",
    "\n",
    "    #return result, \"\\n\".join(stats)\n",
    "\n",
    "\n",
    "def infer_from_file(filename, model_path=MODEL_PATH):\n",
    "    interpreter = tflite.Interpreter(model_path=model_path)\n",
    "    interpreter.allocate_tensors()\n",
    "\n",
    "    input_details = interpreter.get_input_details()\n",
    "    output_details = interpreter.get_output_details()\n",
    "    input_data = extract_feature(filename)\n",
    "\n",
    "    interpreter.set_tensor(input_details[0]['index'], input_data)\n",
    "    interpreter.invoke()\n",
    "    predicted_data_vector = interpreter.get_tensor(output_details[0]['index'])\n",
    "\n",
    "    return get_human_readable_output(predicted_data_vector)"
   ]
  },
  {
   "cell_type": "code",
   "execution_count": 41,
   "metadata": {},
   "outputs": [],
   "source": [
    "import time\n",
    "\n",
    "start = time.time()\n",
    "results = []\n",
    "for filepath, cat in filepaths_with_cat:\n",
    "    results.append((infer_from_file(filepath), cat))\n",
    "end = time.time()"
   ]
  },
  {
   "cell_type": "code",
   "execution_count": 42,
   "metadata": {},
   "outputs": [
    {
     "name": "stdout",
     "output_type": "stream",
     "text": [
      "Got 98 out of 192\n",
      "51.04% correct\n",
      "Took 199.495685338974\n"
     ]
    }
   ],
   "source": [
    "correct = 0\n",
    "for result, expected in results:\n",
    "    if result == expected: correct +=1 \n",
    "        \n",
    "print(f\"Got {correct} out of {len(results)}\")\n",
    "print(f\"{correct/len(results)*100:.2f}% correct\")\n",
    "print(f\"Took {end - start}\")"
   ]
  },
  {
   "cell_type": "markdown",
   "metadata": {},
   "source": [
    "esc_25_simple_05:\n",
    "\n",
    "    Got 88 out of 192\n",
    "    45.83% correct\n",
    "    Took 88.54123330116272\n",
    "    \n",
    "esc_25_resnet18-02-24-07-20-13-26:\n",
    "\n",
    "    Got 88 out of 192\n",
    "    45.83% correct\n",
    "    Took 50.27479147911072"
   ]
  },
  {
   "cell_type": "code",
   "execution_count": null,
   "metadata": {},
   "outputs": [],
   "source": []
  }
 ],
 "metadata": {
  "accelerator": "GPU",
  "colab": {
   "collapsed_sections": [],
   "name": "ESC-25-simple.ipynb",
   "provenance": []
  },
  "environment": {
   "name": "pytorch-gpu.1-4.m46",
   "type": "gcloud",
   "uri": "gcr.io/deeplearning-platform-release/pytorch-gpu.1-4:m46"
  },
  "jupytext": {
   "formats": "ipynb,py:light"
  },
  "kernelspec": {
   "display_name": "Python 3",
   "language": "python",
   "name": "python3"
  },
  "language_info": {
   "codemirror_mode": {
    "name": "ipython",
    "version": 3
   },
   "file_extension": ".py",
   "mimetype": "text/x-python",
   "name": "python",
   "nbconvert_exporter": "python",
   "pygments_lexer": "ipython3",
   "version": "3.7.6"
  }
 },
 "nbformat": 4,
 "nbformat_minor": 4
}
